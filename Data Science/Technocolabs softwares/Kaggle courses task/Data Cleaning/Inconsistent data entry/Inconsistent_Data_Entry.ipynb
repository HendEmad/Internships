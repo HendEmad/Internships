{
  "nbformat": 4,
  "nbformat_minor": 0,
  "metadata": {
    "colab": {
      "name": "Inconsistent Data Entry.ipynb",
      "provenance": []
    },
    "kernelspec": {
      "name": "python3",
      "display_name": "Python 3"
    },
    "language_info": {
      "name": "python"
    }
  },
  "cells": [
    {
      "cell_type": "code",
      "source": [
        "# Installing fuzzywuzzy module\n",
        "!pip3 install fuzzywuzzy"
      ],
      "metadata": {
        "colab": {
          "base_uri": "https://localhost:8080/"
        },
        "id": "9bi0jbskbTth",
        "outputId": "fb3efa87-9044-4af9-d053-a755e73e02b0"
      },
      "execution_count": 7,
      "outputs": [
        {
          "output_type": "stream",
          "name": "stdout",
          "text": [
            "Looking in indexes: https://pypi.org/simple, https://us-python.pkg.dev/colab-wheels/public/simple/\n",
            "Requirement already satisfied: fuzzywuzzy in /usr/local/lib/python3.7/dist-packages (0.18.0)\n"
          ]
        }
      ]
    },
    {
      "cell_type": "code",
      "execution_count": 8,
      "metadata": {
        "id": "FsdYsUtEaUjH"
      },
      "outputs": [],
      "source": [
        "# modules we'll use\n",
        "import pandas as pd\n",
        "import numpy as np\n",
        "\n",
        "# helpful modules\n",
        "import fuzzywuzzy\n",
        "from fuzzywuzzy import process\n",
        "import chardet\n",
        "\n",
        "# read in all our data\n",
        "professors = pd.read_csv(\"/content/pakistan_intellectual_capital.csv\")\n",
        "\n",
        "# set seed for reproducibility\n",
        "np.random.seed(0)"
      ]
    },
    {
      "cell_type": "code",
      "source": [
        "professors.head()"
      ],
      "metadata": {
        "colab": {
          "base_uri": "https://localhost:8080/",
          "height": 513
        },
        "id": "_zQobfhMbx5J",
        "outputId": "6c342037-018c-4b1d-c539-3856cd1e2f65"
      },
      "execution_count": 9,
      "outputs": [
        {
          "output_type": "execute_result",
          "data": {
            "text/plain": [
              "   Unnamed: 0  S#         Teacher Name  \\\n",
              "0           2   3      Dr. Abdul Basit   \n",
              "1           4   5      Dr. Waheed Noor   \n",
              "2           5   6     Dr. Junaid Baber   \n",
              "3           6   7  Dr. Maheen Bakhtyar   \n",
              "4          24  25          Samina Azim   \n",
              "\n",
              "            University Currently Teaching             Department  \\\n",
              "0               University of Balochistan  Computer Science & IT   \n",
              "1               University of Balochistan  Computer Science & IT   \n",
              "2               University of Balochistan  Computer Science & IT   \n",
              "3               University of Balochistan  Computer Science & IT   \n",
              "4  Sardar Bahadur Khan Women's University       Computer Science   \n",
              "\n",
              "  Province University Located          Designation Terminal Degree  \\\n",
              "0                 Balochistan  Assistant Professor             PhD   \n",
              "1                 Balochistan  Assistant Professor             PhD   \n",
              "2                 Balochistan  Assistant Professor             PhD   \n",
              "3                 Balochistan  Assistant Professor             PhD   \n",
              "4                 Balochistan             Lecturer              BS   \n",
              "\n",
              "                                      Graduated from   Country    Year  \\\n",
              "0                      Asian Institute of Technology  Thailand     NaN   \n",
              "1                      Asian Institute of Technology  Thailand     NaN   \n",
              "2                      Asian Institute of Technology  Thailand     NaN   \n",
              "3                      Asian Institute of Technology  Thailand     NaN   \n",
              "4  Balochistan University of Information Technolo...  Pakistan  2005.0   \n",
              "\n",
              "           Area of Specialization/Research Interests Other Information  \n",
              "0                        Software Engineering & DBMS               NaN  \n",
              "1                                               DBMS               NaN  \n",
              "2          Information processing, Multimedia mining               NaN  \n",
              "3  NLP, Information Retrieval, Question Answering...               NaN  \n",
              "4                      VLSI Electronics DLD Database               NaN  "
            ],
            "text/html": [
              "\n",
              "  <div id=\"df-519fbabd-8342-42f7-a06d-f39cef68e1ec\">\n",
              "    <div class=\"colab-df-container\">\n",
              "      <div>\n",
              "<style scoped>\n",
              "    .dataframe tbody tr th:only-of-type {\n",
              "        vertical-align: middle;\n",
              "    }\n",
              "\n",
              "    .dataframe tbody tr th {\n",
              "        vertical-align: top;\n",
              "    }\n",
              "\n",
              "    .dataframe thead th {\n",
              "        text-align: right;\n",
              "    }\n",
              "</style>\n",
              "<table border=\"1\" class=\"dataframe\">\n",
              "  <thead>\n",
              "    <tr style=\"text-align: right;\">\n",
              "      <th></th>\n",
              "      <th>Unnamed: 0</th>\n",
              "      <th>S#</th>\n",
              "      <th>Teacher Name</th>\n",
              "      <th>University Currently Teaching</th>\n",
              "      <th>Department</th>\n",
              "      <th>Province University Located</th>\n",
              "      <th>Designation</th>\n",
              "      <th>Terminal Degree</th>\n",
              "      <th>Graduated from</th>\n",
              "      <th>Country</th>\n",
              "      <th>Year</th>\n",
              "      <th>Area of Specialization/Research Interests</th>\n",
              "      <th>Other Information</th>\n",
              "    </tr>\n",
              "  </thead>\n",
              "  <tbody>\n",
              "    <tr>\n",
              "      <th>0</th>\n",
              "      <td>2</td>\n",
              "      <td>3</td>\n",
              "      <td>Dr. Abdul Basit</td>\n",
              "      <td>University of Balochistan</td>\n",
              "      <td>Computer Science &amp; IT</td>\n",
              "      <td>Balochistan</td>\n",
              "      <td>Assistant Professor</td>\n",
              "      <td>PhD</td>\n",
              "      <td>Asian Institute of Technology</td>\n",
              "      <td>Thailand</td>\n",
              "      <td>NaN</td>\n",
              "      <td>Software Engineering &amp; DBMS</td>\n",
              "      <td>NaN</td>\n",
              "    </tr>\n",
              "    <tr>\n",
              "      <th>1</th>\n",
              "      <td>4</td>\n",
              "      <td>5</td>\n",
              "      <td>Dr. Waheed Noor</td>\n",
              "      <td>University of Balochistan</td>\n",
              "      <td>Computer Science &amp; IT</td>\n",
              "      <td>Balochistan</td>\n",
              "      <td>Assistant Professor</td>\n",
              "      <td>PhD</td>\n",
              "      <td>Asian Institute of Technology</td>\n",
              "      <td>Thailand</td>\n",
              "      <td>NaN</td>\n",
              "      <td>DBMS</td>\n",
              "      <td>NaN</td>\n",
              "    </tr>\n",
              "    <tr>\n",
              "      <th>2</th>\n",
              "      <td>5</td>\n",
              "      <td>6</td>\n",
              "      <td>Dr. Junaid Baber</td>\n",
              "      <td>University of Balochistan</td>\n",
              "      <td>Computer Science &amp; IT</td>\n",
              "      <td>Balochistan</td>\n",
              "      <td>Assistant Professor</td>\n",
              "      <td>PhD</td>\n",
              "      <td>Asian Institute of Technology</td>\n",
              "      <td>Thailand</td>\n",
              "      <td>NaN</td>\n",
              "      <td>Information processing, Multimedia mining</td>\n",
              "      <td>NaN</td>\n",
              "    </tr>\n",
              "    <tr>\n",
              "      <th>3</th>\n",
              "      <td>6</td>\n",
              "      <td>7</td>\n",
              "      <td>Dr. Maheen Bakhtyar</td>\n",
              "      <td>University of Balochistan</td>\n",
              "      <td>Computer Science &amp; IT</td>\n",
              "      <td>Balochistan</td>\n",
              "      <td>Assistant Professor</td>\n",
              "      <td>PhD</td>\n",
              "      <td>Asian Institute of Technology</td>\n",
              "      <td>Thailand</td>\n",
              "      <td>NaN</td>\n",
              "      <td>NLP, Information Retrieval, Question Answering...</td>\n",
              "      <td>NaN</td>\n",
              "    </tr>\n",
              "    <tr>\n",
              "      <th>4</th>\n",
              "      <td>24</td>\n",
              "      <td>25</td>\n",
              "      <td>Samina Azim</td>\n",
              "      <td>Sardar Bahadur Khan Women's University</td>\n",
              "      <td>Computer Science</td>\n",
              "      <td>Balochistan</td>\n",
              "      <td>Lecturer</td>\n",
              "      <td>BS</td>\n",
              "      <td>Balochistan University of Information Technolo...</td>\n",
              "      <td>Pakistan</td>\n",
              "      <td>2005.0</td>\n",
              "      <td>VLSI Electronics DLD Database</td>\n",
              "      <td>NaN</td>\n",
              "    </tr>\n",
              "  </tbody>\n",
              "</table>\n",
              "</div>\n",
              "      <button class=\"colab-df-convert\" onclick=\"convertToInteractive('df-519fbabd-8342-42f7-a06d-f39cef68e1ec')\"\n",
              "              title=\"Convert this dataframe to an interactive table.\"\n",
              "              style=\"display:none;\">\n",
              "        \n",
              "  <svg xmlns=\"http://www.w3.org/2000/svg\" height=\"24px\"viewBox=\"0 0 24 24\"\n",
              "       width=\"24px\">\n",
              "    <path d=\"M0 0h24v24H0V0z\" fill=\"none\"/>\n",
              "    <path d=\"M18.56 5.44l.94 2.06.94-2.06 2.06-.94-2.06-.94-.94-2.06-.94 2.06-2.06.94zm-11 1L8.5 8.5l.94-2.06 2.06-.94-2.06-.94L8.5 2.5l-.94 2.06-2.06.94zm10 10l.94 2.06.94-2.06 2.06-.94-2.06-.94-.94-2.06-.94 2.06-2.06.94z\"/><path d=\"M17.41 7.96l-1.37-1.37c-.4-.4-.92-.59-1.43-.59-.52 0-1.04.2-1.43.59L10.3 9.45l-7.72 7.72c-.78.78-.78 2.05 0 2.83L4 21.41c.39.39.9.59 1.41.59.51 0 1.02-.2 1.41-.59l7.78-7.78 2.81-2.81c.8-.78.8-2.07 0-2.86zM5.41 20L4 18.59l7.72-7.72 1.47 1.35L5.41 20z\"/>\n",
              "  </svg>\n",
              "      </button>\n",
              "      \n",
              "  <style>\n",
              "    .colab-df-container {\n",
              "      display:flex;\n",
              "      flex-wrap:wrap;\n",
              "      gap: 12px;\n",
              "    }\n",
              "\n",
              "    .colab-df-convert {\n",
              "      background-color: #E8F0FE;\n",
              "      border: none;\n",
              "      border-radius: 50%;\n",
              "      cursor: pointer;\n",
              "      display: none;\n",
              "      fill: #1967D2;\n",
              "      height: 32px;\n",
              "      padding: 0 0 0 0;\n",
              "      width: 32px;\n",
              "    }\n",
              "\n",
              "    .colab-df-convert:hover {\n",
              "      background-color: #E2EBFA;\n",
              "      box-shadow: 0px 1px 2px rgba(60, 64, 67, 0.3), 0px 1px 3px 1px rgba(60, 64, 67, 0.15);\n",
              "      fill: #174EA6;\n",
              "    }\n",
              "\n",
              "    [theme=dark] .colab-df-convert {\n",
              "      background-color: #3B4455;\n",
              "      fill: #D2E3FC;\n",
              "    }\n",
              "\n",
              "    [theme=dark] .colab-df-convert:hover {\n",
              "      background-color: #434B5C;\n",
              "      box-shadow: 0px 1px 3px 1px rgba(0, 0, 0, 0.15);\n",
              "      filter: drop-shadow(0px 1px 2px rgba(0, 0, 0, 0.3));\n",
              "      fill: #FFFFFF;\n",
              "    }\n",
              "  </style>\n",
              "\n",
              "      <script>\n",
              "        const buttonEl =\n",
              "          document.querySelector('#df-519fbabd-8342-42f7-a06d-f39cef68e1ec button.colab-df-convert');\n",
              "        buttonEl.style.display =\n",
              "          google.colab.kernel.accessAllowed ? 'block' : 'none';\n",
              "\n",
              "        async function convertToInteractive(key) {\n",
              "          const element = document.querySelector('#df-519fbabd-8342-42f7-a06d-f39cef68e1ec');\n",
              "          const dataTable =\n",
              "            await google.colab.kernel.invokeFunction('convertToInteractive',\n",
              "                                                     [key], {});\n",
              "          if (!dataTable) return;\n",
              "\n",
              "          const docLinkHtml = 'Like what you see? Visit the ' +\n",
              "            '<a target=\"_blank\" href=https://colab.research.google.com/notebooks/data_table.ipynb>data table notebook</a>'\n",
              "            + ' to learn more about interactive tables.';\n",
              "          element.innerHTML = '';\n",
              "          dataTable['output_type'] = 'display_data';\n",
              "          await google.colab.output.renderOutput(dataTable, element);\n",
              "          const docLink = document.createElement('div');\n",
              "          docLink.innerHTML = docLinkHtml;\n",
              "          element.appendChild(docLink);\n",
              "        }\n",
              "      </script>\n",
              "    </div>\n",
              "  </div>\n",
              "  "
            ]
          },
          "metadata": {},
          "execution_count": 9
        }
      ]
    },
    {
      "cell_type": "code",
      "source": [
        "#get all unique values in the country column\n",
        "countries = professors['Country'].unique()\n",
        "countries.sort()\n",
        "countries"
      ],
      "metadata": {
        "colab": {
          "base_uri": "https://localhost:8080/"
        },
        "id": "yOMRaDTfcHVF",
        "outputId": "0cc5b093-2294-4a0b-b7f1-3fd48291640f"
      },
      "execution_count": 12,
      "outputs": [
        {
          "output_type": "execute_result",
          "data": {
            "text/plain": [
              "array([' Germany', ' New Zealand', ' Sweden', ' USA', 'Australia',\n",
              "       'Austria', 'Canada', 'China', 'Finland', 'France', 'Greece',\n",
              "       'HongKong', 'Ireland', 'Italy', 'Japan', 'Macau', 'Malaysia',\n",
              "       'Mauritius', 'Netherland', 'New Zealand', 'Norway', 'Pakistan',\n",
              "       'Portugal', 'Russian Federation', 'Saudi Arabia', 'Scotland',\n",
              "       'Singapore', 'South Korea', 'SouthKorea', 'Spain', 'Sweden',\n",
              "       'Thailand', 'Turkey', 'UK', 'USA', 'USofA', 'Urbana', 'germany'],\n",
              "      dtype=object)"
            ]
          },
          "metadata": {},
          "execution_count": 12
        }
      ]
    },
    {
      "cell_type": "markdown",
      "source": [
        "### 1. The first inconsistency in the data is that we find 'Germany' and 'germany'"
      ],
      "metadata": {
        "id": "uN00aS-TemWZ"
      }
    },
    {
      "cell_type": "code",
      "source": [
        "# Convert all to lower case\n",
        "professors['Country'] = professors['Country'].str.lower()"
      ],
      "metadata": {
        "id": "bAJg0Qlod96z"
      },
      "execution_count": 13,
      "outputs": []
    },
    {
      "cell_type": "markdown",
      "source": [
        "### 2. The second is the unnecessary white spaces"
      ],
      "metadata": {
        "id": "Cs4jZ-pEe1P8"
      }
    },
    {
      "cell_type": "code",
      "source": [
        "# Remove trailing white space\n",
        "professors['Country'] = professors['Country'].str.strip()"
      ],
      "metadata": {
        "id": "6Yt2mYHQeWiX"
      },
      "execution_count": 14,
      "outputs": []
    },
    {
      "cell_type": "markdown",
      "source": [
        "### 3. It does look like there is another inconsistency: 'southkorea' and 'south korea' should be the same."
      ],
      "metadata": {
        "id": "psTurLnIfFBN"
      }
    },
    {
      "cell_type": "markdown",
      "source": [
        "In bigger datasets, we can not correct all errors by hand. So, we can use `fuzzywuzzy` package"
      ],
      "metadata": {
        "id": "-w-YvOilfOvj"
      }
    },
    {
      "cell_type": "code",
      "source": [
        "# Get the top 10 closest matches to 'south korea'\n",
        "matches = fuzzywuzzy.process.extract(\"south korea\", countries, limit = 10, \n",
        "                                     scorer = fuzzywuzzy.fuzz.token_sort_ratio)\n",
        "matches"
      ],
      "metadata": {
        "colab": {
          "base_uri": "https://localhost:8080/"
        },
        "id": "5se_Tse2eenP",
        "outputId": "a65fbb22-32f6-4602-f0dd-7b25b4b0d7c8"
      },
      "execution_count": 17,
      "outputs": [
        {
          "output_type": "execute_result",
          "data": {
            "text/plain": [
              "[('South Korea', 100),\n",
              " ('SouthKorea', 48),\n",
              " ('Saudi Arabia', 43),\n",
              " ('Norway', 35),\n",
              " ('Ireland', 33),\n",
              " ('Portugal', 32),\n",
              " ('Singapore', 30),\n",
              " ('Netherland', 29),\n",
              " ('Macau', 25),\n",
              " ('USofA', 25)]"
            ]
          },
          "metadata": {},
          "execution_count": 17
        }
      ]
    },
    {
      "cell_type": "markdown",
      "source": [
        "''south korea'' and ''southkorea'' to very close. so we can replace all rows in the `Country` column that have a ratio of `> 47` with ''south korea''"
      ],
      "metadata": {
        "id": "DpUmlXG_hBmP"
      }
    },
    {
      "cell_type": "code",
      "source": [
        "# Function to replace rows in the provided column of the provided daatframe\n",
        "# that match the provided string above the provided ratio with the provided string\n",
        "def replace_matches_in_column(df, column, string_to_match, min_ratio = 47):\n",
        "  # get list of unique strings\n",
        "  strings = df[column].unique()\n",
        "\n",
        "  # get the top 10 closest matches to out input string\n",
        "  matches = fuzzywuzzy.process.extract(string_to_match, strings, limit = 10, \n",
        "                                       scorer = fuzzywuzzy.fuzz.token_sort_ratio)\n",
        "  \n",
        "  # only get matches with a ratio > 90\n",
        "  close_matches = [matches[0] for matches in matches if matches[1] >= min_ratio]\n",
        "\n",
        "  # get the rows of all the close matches in our dataframe\n",
        "  rows_with_matches = df[column].isin(close_matches)\n",
        "\n",
        "  # replace all rows with the close matches with the input matches\n",
        "  df.loc[rows_with_matches, column] = string_to_match\n",
        "\n",
        "  print(\"All done\")"
      ],
      "metadata": {
        "id": "jOpC4U0fgslm"
      },
      "execution_count": 27,
      "outputs": []
    },
    {
      "cell_type": "code",
      "source": [
        "# use the function we just wrote to replace close matches to \"south korea\" with \"south korea\"\n",
        "replace_matches_in_column(df=professors, column='Country', string_to_match=\"south korea\")"
      ],
      "metadata": {
        "colab": {
          "base_uri": "https://localhost:8080/"
        },
        "id": "IxBgYjoCjTqd",
        "outputId": "b5ba346c-2292-417e-de0c-b1060d6f6964"
      },
      "execution_count": 28,
      "outputs": [
        {
          "output_type": "stream",
          "name": "stdout",
          "text": [
            "All done\n"
          ]
        }
      ]
    },
    {
      "cell_type": "code",
      "source": [
        "# get all the unique values in the 'Country' column\n",
        "countries = professors['Country'].unique()\n",
        "\n",
        "# sort them alphabetically and then take a closer look\n",
        "countries.sort()\n",
        "countries"
      ],
      "metadata": {
        "colab": {
          "base_uri": "https://localhost:8080/"
        },
        "id": "_m6FEJKdiNko",
        "outputId": "1f31de14-c130-41d6-db78-a9fb0f81c4d2"
      },
      "execution_count": 29,
      "outputs": [
        {
          "output_type": "execute_result",
          "data": {
            "text/plain": [
              "array(['australia', 'austria', 'canada', 'china', 'finland', 'france',\n",
              "       'germany', 'greece', 'hongkong', 'ireland', 'italy', 'japan',\n",
              "       'macau', 'malaysia', 'mauritius', 'netherland', 'new zealand',\n",
              "       'norway', 'pakistan', 'portugal', 'russian federation',\n",
              "       'saudi arabia', 'scotland', 'singapore', 'south korea', 'spain',\n",
              "       'sweden', 'thailand', 'turkey', 'uk', 'urbana', 'usa', 'usofa'],\n",
              "      dtype=object)"
            ]
          },
          "metadata": {},
          "execution_count": 29
        }
      ]
    }
  ]
}