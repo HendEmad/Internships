{
 "cells": [
  {
   "cell_type": "code",
   "execution_count": 1,
   "id": "6f4035eb",
   "metadata": {},
   "outputs": [],
   "source": [
    "import numpy as np\n",
    "import pandas as pd\n",
    "import matplotlib.pyplot as plt\n",
    "from sklearn.feature_selection import mutual_info_regression\n",
    "from sklearn.preprocessing import LabelEncoder\n",
    "from sklearn.model_selection import train_test_split\n",
    "from sklearn.model_selection import GridSearchCV\n",
    "from sklearn.metrics import classification_report\n",
    "from sklearn import tree\n",
    "from sklearn.metrics import precision_score,recall_score, confusion_matrix, classification_report,accuracy_score, f1_score\n",
    "from mlxtend.plotting import plot_confusion_matrix\n",
    "from sklearn.preprocessing import StandardScaler"
   ]
  },
  {
   "cell_type": "code",
   "execution_count": 2,
   "id": "bcacdd36",
   "metadata": {},
   "outputs": [],
   "source": [
    "df = pd.read_csv(\"prosperLoanData.csv\")"
   ]
  },
  {
   "cell_type": "code",
   "execution_count": 3,
   "id": "31c0d312",
   "metadata": {},
   "outputs": [
    {
     "data": {
      "text/plain": [
       "(113937, 81)"
      ]
     },
     "execution_count": 3,
     "metadata": {},
     "output_type": "execute_result"
    }
   ],
   "source": [
    "df.shape"
   ]
  },
  {
   "cell_type": "code",
   "execution_count": 4,
   "id": "f321e6bf",
   "metadata": {},
   "outputs": [
    {
     "name": "stdout",
     "output_type": "stream",
     "text": [
      "<class 'pandas.core.frame.DataFrame'>\n",
      "RangeIndex: 113937 entries, 0 to 113936\n",
      "Data columns (total 81 columns):\n",
      " #   Column                               Non-Null Count   Dtype  \n",
      "---  ------                               --------------   -----  \n",
      " 0   ListingKey                           113937 non-null  object \n",
      " 1   ListingNumber                        113937 non-null  int64  \n",
      " 2   ListingCreationDate                  113937 non-null  object \n",
      " 3   CreditGrade                          28953 non-null   object \n",
      " 4   Term                                 113937 non-null  int64  \n",
      " 5   LoanStatus                           113937 non-null  object \n",
      " 6   ClosedDate                           55089 non-null   object \n",
      " 7   BorrowerAPR                          113912 non-null  float64\n",
      " 8   BorrowerRate                         113937 non-null  float64\n",
      " 9   LenderYield                          113937 non-null  float64\n",
      " 10  EstimatedEffectiveYield              84853 non-null   float64\n",
      " 11  EstimatedLoss                        84853 non-null   float64\n",
      " 12  EstimatedReturn                      84853 non-null   float64\n",
      " 13  ProsperRating (numeric)              84853 non-null   float64\n",
      " 14  ProsperRating (Alpha)                84853 non-null   object \n",
      " 15  ProsperScore                         84853 non-null   float64\n",
      " 16  ListingCategory (numeric)            113937 non-null  int64  \n",
      " 17  BorrowerState                        108422 non-null  object \n",
      " 18  Occupation                           110349 non-null  object \n",
      " 19  EmploymentStatus                     111682 non-null  object \n",
      " 20  EmploymentStatusDuration             106312 non-null  float64\n",
      " 21  IsBorrowerHomeowner                  113937 non-null  bool   \n",
      " 22  CurrentlyInGroup                     113937 non-null  bool   \n",
      " 23  GroupKey                             13341 non-null   object \n",
      " 24  DateCreditPulled                     113937 non-null  object \n",
      " 25  CreditScoreRangeLower                113346 non-null  float64\n",
      " 26  CreditScoreRangeUpper                113346 non-null  float64\n",
      " 27  FirstRecordedCreditLine              113240 non-null  object \n",
      " 28  CurrentCreditLines                   106333 non-null  float64\n",
      " 29  OpenCreditLines                      106333 non-null  float64\n",
      " 30  TotalCreditLinespast7years           113240 non-null  float64\n",
      " 31  OpenRevolvingAccounts                113937 non-null  int64  \n",
      " 32  OpenRevolvingMonthlyPayment          113937 non-null  float64\n",
      " 33  InquiriesLast6Months                 113240 non-null  float64\n",
      " 34  TotalInquiries                       112778 non-null  float64\n",
      " 35  CurrentDelinquencies                 113240 non-null  float64\n",
      " 36  AmountDelinquent                     106315 non-null  float64\n",
      " 37  DelinquenciesLast7Years              112947 non-null  float64\n",
      " 38  PublicRecordsLast10Years             113240 non-null  float64\n",
      " 39  PublicRecordsLast12Months            106333 non-null  float64\n",
      " 40  RevolvingCreditBalance               106333 non-null  float64\n",
      " 41  BankcardUtilization                  106333 non-null  float64\n",
      " 42  AvailableBankcardCredit              106393 non-null  float64\n",
      " 43  TotalTrades                          106393 non-null  float64\n",
      " 44  TradesNeverDelinquent (percentage)   106393 non-null  float64\n",
      " 45  TradesOpenedLast6Months              106393 non-null  float64\n",
      " 46  DebtToIncomeRatio                    105383 non-null  float64\n",
      " 47  IncomeRange                          113937 non-null  object \n",
      " 48  IncomeVerifiable                     113937 non-null  bool   \n",
      " 49  StatedMonthlyIncome                  113937 non-null  float64\n",
      " 50  LoanKey                              113937 non-null  object \n",
      " 51  TotalProsperLoans                    22085 non-null   float64\n",
      " 52  TotalProsperPaymentsBilled           22085 non-null   float64\n",
      " 53  OnTimeProsperPayments                22085 non-null   float64\n",
      " 54  ProsperPaymentsLessThanOneMonthLate  22085 non-null   float64\n",
      " 55  ProsperPaymentsOneMonthPlusLate      22085 non-null   float64\n",
      " 56  ProsperPrincipalBorrowed             22085 non-null   float64\n",
      " 57  ProsperPrincipalOutstanding          22085 non-null   float64\n",
      " 58  ScorexChangeAtTimeOfListing          18928 non-null   float64\n",
      " 59  LoanCurrentDaysDelinquent            113937 non-null  int64  \n",
      " 60  LoanFirstDefaultedCycleNumber        16952 non-null   float64\n",
      " 61  LoanMonthsSinceOrigination           113937 non-null  int64  \n",
      " 62  LoanNumber                           113937 non-null  int64  \n",
      " 63  LoanOriginalAmount                   113937 non-null  int64  \n",
      " 64  LoanOriginationDate                  113937 non-null  object \n",
      " 65  LoanOriginationQuarter               113937 non-null  object \n",
      " 66  MemberKey                            113937 non-null  object \n",
      " 67  MonthlyLoanPayment                   113937 non-null  float64\n",
      " 68  LP_CustomerPayments                  113937 non-null  float64\n",
      " 69  LP_CustomerPrincipalPayments         113937 non-null  float64\n",
      " 70  LP_InterestandFees                   113937 non-null  float64\n",
      " 71  LP_ServiceFees                       113937 non-null  float64\n",
      " 72  LP_CollectionFees                    113937 non-null  float64\n",
      " 73  LP_GrossPrincipalLoss                113937 non-null  float64\n",
      " 74  LP_NetPrincipalLoss                  113937 non-null  float64\n",
      " 75  LP_NonPrincipalRecoverypayments      113937 non-null  float64\n",
      " 76  PercentFunded                        113937 non-null  float64\n",
      " 77  Recommendations                      113937 non-null  int64  \n",
      " 78  InvestmentFromFriendsCount           113937 non-null  int64  \n",
      " 79  InvestmentFromFriendsAmount          113937 non-null  float64\n",
      " 80  Investors                            113937 non-null  int64  \n",
      "dtypes: bool(3), float64(50), int64(11), object(17)\n",
      "memory usage: 68.1+ MB\n"
     ]
    }
   ],
   "source": [
    "df.info()"
   ]
  },
  {
   "cell_type": "markdown",
   "id": "722b8d3f",
   "metadata": {},
   "source": [
    "# Data Cleaning\n",
    "### 1. Duplicates"
   ]
  },
  {
   "cell_type": "code",
   "execution_count": null,
   "id": "252d2776",
   "metadata": {},
   "outputs": [],
   "source": [
    "# check duplications and drop them\n",
    "subset_df.duplicated().sum()"
   ]
  },
  {
   "cell_type": "markdown",
   "id": "16e70a50",
   "metadata": {},
   "source": [
    "# Missing values"
   ]
  },
  {
   "cell_type": "code",
   "execution_count": 5,
   "id": "3eb35795",
   "metadata": {},
   "outputs": [],
   "source": [
    "df.drop(columns=[\"ListingKey\",\"ListingNumber\",\"GroupKey\",\"LoanKey\",\n",
    "                 \"LoanNumber\",\"MemberKey\",\"DateCreditPulled\"],inplace= True )"
   ]
  },
  {
   "cell_type": "code",
   "execution_count": 6,
   "id": "5320f1c1",
   "metadata": {},
   "outputs": [
    {
     "name": "stdout",
     "output_type": "stream",
     "text": [
      "col num : 1 /  CreditGrade / 84984 nulls /74.59 %\n",
      "col num : 4 /  ClosedDate / 58848 nulls /51.65 %\n",
      "col num : 5 /  BorrowerAPR / 25 nulls /0.02 %\n",
      "col num : 8 /  EstimatedEffectiveYield / 29084 nulls /25.53 %\n",
      "col num : 9 /  EstimatedLoss / 29084 nulls /25.53 %\n",
      "col num : 10 /  EstimatedReturn / 29084 nulls /25.53 %\n",
      "col num : 11 /  ProsperRating (numeric) / 29084 nulls /25.53 %\n",
      "col num : 12 /  ProsperRating (Alpha) / 29084 nulls /25.53 %\n",
      "col num : 13 /  ProsperScore / 29084 nulls /25.53 %\n",
      "col num : 15 /  BorrowerState / 5515 nulls /4.84 %\n",
      "col num : 16 /  Occupation / 3588 nulls /3.15 %\n",
      "col num : 17 /  EmploymentStatus / 2255 nulls /1.98 %\n",
      "col num : 18 /  EmploymentStatusDuration / 7625 nulls /6.69 %\n",
      "col num : 21 /  CreditScoreRangeLower / 591 nulls /0.52 %\n",
      "col num : 22 /  CreditScoreRangeUpper / 591 nulls /0.52 %\n",
      "col num : 23 /  FirstRecordedCreditLine / 697 nulls /0.61 %\n",
      "col num : 24 /  CurrentCreditLines / 7604 nulls /6.67 %\n",
      "col num : 25 /  OpenCreditLines / 7604 nulls /6.67 %\n",
      "col num : 26 /  TotalCreditLinespast7years / 697 nulls /0.61 %\n",
      "col num : 29 /  InquiriesLast6Months / 697 nulls /0.61 %\n",
      "col num : 30 /  TotalInquiries / 1159 nulls /1.02 %\n",
      "col num : 31 /  CurrentDelinquencies / 697 nulls /0.61 %\n",
      "col num : 32 /  AmountDelinquent / 7622 nulls /6.69 %\n",
      "col num : 33 /  DelinquenciesLast7Years / 990 nulls /0.87 %\n",
      "col num : 34 /  PublicRecordsLast10Years / 697 nulls /0.61 %\n",
      "col num : 35 /  PublicRecordsLast12Months / 7604 nulls /6.67 %\n",
      "col num : 36 /  RevolvingCreditBalance / 7604 nulls /6.67 %\n",
      "col num : 37 /  BankcardUtilization / 7604 nulls /6.67 %\n",
      "col num : 38 /  AvailableBankcardCredit / 7544 nulls /6.62 %\n",
      "col num : 39 /  TotalTrades / 7544 nulls /6.62 %\n",
      "col num : 40 /  TradesNeverDelinquent (percentage) / 7544 nulls /6.62 %\n",
      "col num : 41 /  TradesOpenedLast6Months / 7544 nulls /6.62 %\n",
      "col num : 42 /  DebtToIncomeRatio / 8554 nulls /7.51 %\n",
      "col num : 46 /  TotalProsperLoans / 91852 nulls /80.62 %\n",
      "col num : 47 /  TotalProsperPaymentsBilled / 91852 nulls /80.62 %\n",
      "col num : 48 /  OnTimeProsperPayments / 91852 nulls /80.62 %\n",
      "col num : 49 /  ProsperPaymentsLessThanOneMonthLate / 91852 nulls /80.62 %\n",
      "col num : 50 /  ProsperPaymentsOneMonthPlusLate / 91852 nulls /80.62 %\n",
      "col num : 51 /  ProsperPrincipalBorrowed / 91852 nulls /80.62 %\n",
      "col num : 52 /  ProsperPrincipalOutstanding / 91852 nulls /80.62 %\n",
      "col num : 53 /  ScorexChangeAtTimeOfListing / 95009 nulls /83.39 %\n",
      "col num : 55 /  LoanFirstDefaultedCycleNumber / 96985 nulls /85.12 %\n"
     ]
    }
   ],
   "source": [
    "lst = df.isnull().sum()\n",
    "for i in range(len(lst)) :\n",
    "    if lst[i] != 0 :\n",
    "        x= lst[i]\n",
    "        col = df.columns[i]\n",
    "        y= (x/df.shape[0])*100\n",
    "        print(\"col num : \" +str(i) + \" /  \" + col + \" / \" + str(x) + \" nulls /\"+ str(round(y,2)) +\" %\")\n",
    "    "
   ]
  },
  {
   "cell_type": "code",
   "execution_count": 7,
   "id": "b20aa854",
   "metadata": {},
   "outputs": [],
   "source": [
    "df.drop(columns=[\"CreditGrade\",\"TotalProsperLoans\",\"TotalProsperPaymentsBilled\",\n",
    "                 \"ProsperPaymentsLessThanOneMonthLate\",\n",
    "                 \"ProsperPaymentsOneMonthPlusLate\",\"ProsperPrincipalBorrowed\",\n",
    "                \"ProsperPrincipalOutstanding\",\"ScorexChangeAtTimeOfListing\",\n",
    "                 \"LoanFirstDefaultedCycleNumber\",\"OnTimeProsperPayments\",\n",
    "                \"ClosedDate\"],inplace= True )"
   ]
  },
  {
   "cell_type": "code",
   "execution_count": 8,
   "id": "bd3fc5a5",
   "metadata": {},
   "outputs": [],
   "source": [
    "df.dropna(subset=[\"EstimatedEffectiveYield\",\"EstimatedLoss\",\"EstimatedReturn\",\n",
    "                  \"ProsperRating (numeric)\", \"ProsperRating (Alpha)\",\n",
    "                  \"ProsperScore\"],inplace = True)"
   ]
  },
  {
   "cell_type": "code",
   "execution_count": 9,
   "id": "f1bb8906",
   "metadata": {},
   "outputs": [
    {
     "name": "stdout",
     "output_type": "stream",
     "text": [
      "col num : 14 /  Occupation / 1333 nulls /1.57 %\n",
      "col num : 16 /  EmploymentStatusDuration / 19 nulls /0.02 %\n",
      "col num : 40 /  DebtToIncomeRatio / 7296 nulls /8.6 %\n"
     ]
    }
   ],
   "source": [
    "lst = df.isnull().sum()\n",
    "for i in range(len(lst)) :\n",
    "    if lst[i] != 0 :\n",
    "        x= lst[i]\n",
    "        col = df.columns[i]\n",
    "        y= (x/df.shape[0])*100\n",
    "        print(\"col num : \" +str(i) + \" /  \" + col + \" / \" + str(x) + \" nulls /\"+ str(round(y,2)) +\" %\")"
   ]
  },
  {
   "cell_type": "code",
   "execution_count": 10,
   "id": "9d053f5a",
   "metadata": {},
   "outputs": [],
   "source": [
    "df[\"DebtToIncomeRatio\"].fillna(df[\"DebtToIncomeRatio\"].mean,inplace = True)"
   ]
  },
  {
   "cell_type": "code",
   "execution_count": 11,
   "id": "ca212693",
   "metadata": {},
   "outputs": [],
   "source": [
    "df.dropna(inplace = True)"
   ]
  },
  {
   "cell_type": "code",
   "execution_count": 12,
   "id": "ecf00552",
   "metadata": {},
   "outputs": [
    {
     "name": "stdout",
     "output_type": "stream",
     "text": [
      "<class 'pandas.core.frame.DataFrame'>\n",
      "Int64Index: 83507 entries, 1 to 113936\n",
      "Data columns (total 63 columns):\n",
      " #   Column                              Non-Null Count  Dtype  \n",
      "---  ------                              --------------  -----  \n",
      " 0   ListingCreationDate                 83507 non-null  object \n",
      " 1   Term                                83507 non-null  int64  \n",
      " 2   LoanStatus                          83507 non-null  object \n",
      " 3   BorrowerAPR                         83507 non-null  float64\n",
      " 4   BorrowerRate                        83507 non-null  float64\n",
      " 5   LenderYield                         83507 non-null  float64\n",
      " 6   EstimatedEffectiveYield             83507 non-null  float64\n",
      " 7   EstimatedLoss                       83507 non-null  float64\n",
      " 8   EstimatedReturn                     83507 non-null  float64\n",
      " 9   ProsperRating (numeric)             83507 non-null  float64\n",
      " 10  ProsperRating (Alpha)               83507 non-null  object \n",
      " 11  ProsperScore                        83507 non-null  float64\n",
      " 12  ListingCategory (numeric)           83507 non-null  int64  \n",
      " 13  BorrowerState                       83507 non-null  object \n",
      " 14  Occupation                          83507 non-null  object \n",
      " 15  EmploymentStatus                    83507 non-null  object \n",
      " 16  EmploymentStatusDuration            83507 non-null  float64\n",
      " 17  IsBorrowerHomeowner                 83507 non-null  bool   \n",
      " 18  CurrentlyInGroup                    83507 non-null  bool   \n",
      " 19  CreditScoreRangeLower               83507 non-null  float64\n",
      " 20  CreditScoreRangeUpper               83507 non-null  float64\n",
      " 21  FirstRecordedCreditLine             83507 non-null  object \n",
      " 22  CurrentCreditLines                  83507 non-null  float64\n",
      " 23  OpenCreditLines                     83507 non-null  float64\n",
      " 24  TotalCreditLinespast7years          83507 non-null  float64\n",
      " 25  OpenRevolvingAccounts               83507 non-null  int64  \n",
      " 26  OpenRevolvingMonthlyPayment         83507 non-null  float64\n",
      " 27  InquiriesLast6Months                83507 non-null  float64\n",
      " 28  TotalInquiries                      83507 non-null  float64\n",
      " 29  CurrentDelinquencies                83507 non-null  float64\n",
      " 30  AmountDelinquent                    83507 non-null  float64\n",
      " 31  DelinquenciesLast7Years             83507 non-null  float64\n",
      " 32  PublicRecordsLast10Years            83507 non-null  float64\n",
      " 33  PublicRecordsLast12Months           83507 non-null  float64\n",
      " 34  RevolvingCreditBalance              83507 non-null  float64\n",
      " 35  BankcardUtilization                 83507 non-null  float64\n",
      " 36  AvailableBankcardCredit             83507 non-null  float64\n",
      " 37  TotalTrades                         83507 non-null  float64\n",
      " 38  TradesNeverDelinquent (percentage)  83507 non-null  float64\n",
      " 39  TradesOpenedLast6Months             83507 non-null  float64\n",
      " 40  DebtToIncomeRatio                   83507 non-null  object \n",
      " 41  IncomeRange                         83507 non-null  object \n",
      " 42  IncomeVerifiable                    83507 non-null  bool   \n",
      " 43  StatedMonthlyIncome                 83507 non-null  float64\n",
      " 44  LoanCurrentDaysDelinquent           83507 non-null  int64  \n",
      " 45  LoanMonthsSinceOrigination          83507 non-null  int64  \n",
      " 46  LoanOriginalAmount                  83507 non-null  int64  \n",
      " 47  LoanOriginationDate                 83507 non-null  object \n",
      " 48  LoanOriginationQuarter              83507 non-null  object \n",
      " 49  MonthlyLoanPayment                  83507 non-null  float64\n",
      " 50  LP_CustomerPayments                 83507 non-null  float64\n",
      " 51  LP_CustomerPrincipalPayments        83507 non-null  float64\n",
      " 52  LP_InterestandFees                  83507 non-null  float64\n",
      " 53  LP_ServiceFees                      83507 non-null  float64\n",
      " 54  LP_CollectionFees                   83507 non-null  float64\n",
      " 55  LP_GrossPrincipalLoss               83507 non-null  float64\n",
      " 56  LP_NetPrincipalLoss                 83507 non-null  float64\n",
      " 57  LP_NonPrincipalRecoverypayments     83507 non-null  float64\n",
      " 58  PercentFunded                       83507 non-null  float64\n",
      " 59  Recommendations                     83507 non-null  int64  \n",
      " 60  InvestmentFromFriendsCount          83507 non-null  int64  \n",
      " 61  InvestmentFromFriendsAmount         83507 non-null  float64\n",
      " 62  Investors                           83507 non-null  int64  \n",
      "dtypes: bool(3), float64(40), int64(9), object(11)\n",
      "memory usage: 39.1+ MB\n"
     ]
    }
   ],
   "source": [
    "df.info()"
   ]
  },
  {
   "cell_type": "code",
   "execution_count": 13,
   "id": "224e5474",
   "metadata": {},
   "outputs": [
    {
     "data": {
      "text/plain": [
       "0"
      ]
     },
     "execution_count": 13,
     "metadata": {},
     "output_type": "execute_result"
    }
   ],
   "source": [
    "df.isnull().sum().sum()"
   ]
  },
  {
   "cell_type": "code",
   "execution_count": 14,
   "id": "1f6c256c",
   "metadata": {},
   "outputs": [],
   "source": [
    "df[\"ListingCreationDate\"] = df[\"ListingCreationDate\"].str.extract(r\"^(\\w+)\")\n",
    "df[\"FirstRecordedCreditLine\"] = df[\"FirstRecordedCreditLine\"].str.extract(r\"^(\\w+)\")\n",
    "df[\"LoanOriginationDate\"] = df[\"LoanOriginationDate\"].str.extract(r\"^(\\w+)\")"
   ]
  },
  {
   "cell_type": "code",
   "execution_count": 15,
   "id": "e7585348",
   "metadata": {},
   "outputs": [],
   "source": [
    "df.reset_index(inplace =True)"
   ]
  },
  {
   "cell_type": "code",
   "execution_count": 16,
   "id": "7a7f9e3e",
   "metadata": {},
   "outputs": [],
   "source": [
    "df.drop(columns=\"index\",inplace = True)"
   ]
  },
  {
   "cell_type": "code",
   "execution_count": 17,
   "id": "ad7106b0",
   "metadata": {},
   "outputs": [],
   "source": [
    "boolean = list(df.select_dtypes('bool'))"
   ]
  },
  {
   "cell_type": "code",
   "execution_count": 18,
   "id": "f05c6841",
   "metadata": {},
   "outputs": [
    {
     "data": {
      "text/plain": [
       "['IsBorrowerHomeowner', 'CurrentlyInGroup', 'IncomeVerifiable']"
      ]
     },
     "execution_count": 18,
     "metadata": {},
     "output_type": "execute_result"
    }
   ],
   "source": [
    "boolean"
   ]
  },
  {
   "cell_type": "markdown",
   "id": "8a95af5c",
   "metadata": {},
   "source": [
    "# Outliers"
   ]
  },
  {
   "cell_type": "code",
   "execution_count": 19,
   "id": "e8574068",
   "metadata": {},
   "outputs": [],
   "source": [
    "df['IsBorrowerHomeowner'] = df['IsBorrowerHomeowner'].astype('int')\n",
    "df['CurrentlyInGroup'] = df['CurrentlyInGroup'].astype('int')\n",
    "df['IncomeVerifiable'] = df['IncomeVerifiable'].astype('int')"
   ]
  },
  {
   "cell_type": "code",
   "execution_count": 20,
   "id": "0e3bdc0d",
   "metadata": {},
   "outputs": [
    {
     "data": {
      "text/plain": [
       "[]"
      ]
     },
     "execution_count": 20,
     "metadata": {},
     "output_type": "execute_result"
    }
   ],
   "source": [
    "list(df.select_dtypes('bool'))"
   ]
  },
  {
   "cell_type": "code",
   "execution_count": 21,
   "id": "e744c550",
   "metadata": {},
   "outputs": [],
   "source": [
    "def handling_outliers(orignal_df,lst_of_columns) :\n",
    "    for i in lst_of_columns:\n",
    "        q1 = orignal_df[i].quantile(0.25)\n",
    "        q3 = orignal_df[i].quantile(0.75)\n",
    "        iqr = q3 - q1\n",
    "        lower_bound = q1 - (1.5 * iqr) \n",
    "        upper_bound = q3 +(1.5 * iqr)\n",
    "        for col in range(20,orignal_df.shape[0]):\n",
    "            if orignal_df[i][col] < lower_bound :\n",
    "                orignal_df[i][col]  = lower_bound\n",
    "            elif orignal_df[i][col] > upper_bound :\n",
    "                orignal_df[i][col]  = upper_bound\n",
    "            else:\n",
    "                continue \n",
    "    print(\"handling is done\")\n",
    "    \n",
    "\"\"\"\n",
    "function returnd list has just names of the continus featurs \n",
    "\"\"\"\n",
    "    \n",
    "def get_continus_list(df_):\n",
    "    obj = df_.select_dtypes('object')\n",
    "    lst = list(df_.columns)\n",
    "    obj_lst = list(obj.columns)\n",
    "    for i in obj_lst :\n",
    "        lst.remove(i)\n",
    "    return lst"
   ]
  },
  {
   "cell_type": "code",
   "execution_count": 22,
   "id": "1fee1f25",
   "metadata": {
    "scrolled": true
   },
   "outputs": [
    {
     "name": "stderr",
     "output_type": "stream",
     "text": [
      "C:\\Users\\Data\\AppData\\Local\\Temp\\ipykernel_22120\\4143743852.py:10: SettingWithCopyWarning: \n",
      "A value is trying to be set on a copy of a slice from a DataFrame\n",
      "\n",
      "See the caveats in the documentation: https://pandas.pydata.org/pandas-docs/stable/user_guide/indexing.html#returning-a-view-versus-a-copy\n",
      "  orignal_df[i][col]  = lower_bound\n",
      "C:\\Users\\Data\\AppData\\Local\\Temp\\ipykernel_22120\\4143743852.py:12: SettingWithCopyWarning: \n",
      "A value is trying to be set on a copy of a slice from a DataFrame\n",
      "\n",
      "See the caveats in the documentation: https://pandas.pydata.org/pandas-docs/stable/user_guide/indexing.html#returning-a-view-versus-a-copy\n",
      "  orignal_df[i][col]  = upper_bound\n"
     ]
    },
    {
     "name": "stdout",
     "output_type": "stream",
     "text": [
      "handling is done\n",
      "All is Done\n"
     ]
    }
   ],
   "source": [
    "handling_outliers(df,get_continus_list(df)) \n",
    "print(\"All is Done\")"
   ]
  },
  {
   "cell_type": "markdown",
   "id": "576915e7",
   "metadata": {},
   "source": [
    "# Feature Selection"
   ]
  },
  {
   "cell_type": "markdown",
   "id": "8e4f1888",
   "metadata": {},
   "source": [
    "### Target value"
   ]
  },
  {
   "cell_type": "code",
   "execution_count": 23,
   "id": "eb986eda",
   "metadata": {},
   "outputs": [
    {
     "data": {
      "text/plain": [
       "Current                   55268\n",
       "Completed                 19644\n",
       "Chargedoff                 5334\n",
       "Defaulted                  1005\n",
       "Past Due (1-15 days)        798\n",
       "Past Due (31-60 days)       358\n",
       "Past Due (61-90 days)       313\n",
       "Past Due (91-120 days)      304\n",
       "Past Due (16-30 days)       264\n",
       "FinalPaymentInProgress      203\n",
       "Past Due (>120 days)         16\n",
       "Name: LoanStatus, dtype: int64"
      ]
     },
     "execution_count": 23,
     "metadata": {},
     "output_type": "execute_result"
    }
   ],
   "source": [
    "df['LoanStatus'].value_counts()"
   ]
  },
  {
   "cell_type": "code",
   "execution_count": 24,
   "id": "fb5ec118",
   "metadata": {},
   "outputs": [],
   "source": [
    "# those are current, completed and cancelled are categorize as completed (1)otherwise defaulted(0)\n",
    "df['Status'] = np.where((df['LoanStatus'] == 'Current')|\n",
    "                          (df['LoanStatus'] == 'Completed')|\n",
    "                          (df['LoanStatus'] == 'Cancelled'), \n",
    "                           1, 0)"
   ]
  },
  {
   "cell_type": "code",
   "execution_count": 25,
   "id": "c37c9840",
   "metadata": {},
   "outputs": [],
   "source": [
    "df.drop('LoanStatus',axis=1,inplace=True)"
   ]
  },
  {
   "cell_type": "code",
   "execution_count": 26,
   "id": "6c59a044",
   "metadata": {},
   "outputs": [
    {
     "data": {
      "text/plain": [
       "1    74912\n",
       "0     8595\n",
       "Name: Status, dtype: int64"
      ]
     },
     "execution_count": 26,
     "metadata": {},
     "output_type": "execute_result"
    }
   ],
   "source": [
    "df['Status'].value_counts()"
   ]
  },
  {
   "cell_type": "code",
   "execution_count": 27,
   "id": "1bf3e6d6",
   "metadata": {},
   "outputs": [],
   "source": [
    "# Check object values \n",
    "obj = df.select_dtypes('object')"
   ]
  },
  {
   "cell_type": "code",
   "execution_count": 28,
   "id": "23685537",
   "metadata": {},
   "outputs": [
    {
     "data": {
      "text/plain": [
       "Index(['ListingCreationDate', 'ProsperRating (Alpha)', 'BorrowerState',\n",
       "       'Occupation', 'EmploymentStatus', 'FirstRecordedCreditLine',\n",
       "       'DebtToIncomeRatio', 'IncomeRange', 'LoanOriginationDate',\n",
       "       'LoanOriginationQuarter'],\n",
       "      dtype='object')"
      ]
     },
     "execution_count": 28,
     "metadata": {},
     "output_type": "execute_result"
    }
   ],
   "source": [
    "obj.columns"
   ]
  },
  {
   "cell_type": "code",
   "execution_count": 29,
   "id": "8fea9d81",
   "metadata": {},
   "outputs": [],
   "source": [
    "df.drop(columns =[\"DebtToIncomeRatio\",\"IncomeRange\",\"LoanOriginationDate\"],inplace =True)"
   ]
  },
  {
   "cell_type": "code",
   "execution_count": 30,
   "id": "e732505a",
   "metadata": {},
   "outputs": [
    {
     "data": {
      "text/plain": [
       "Index(['ListingCreationDate', 'ProsperRating (Alpha)', 'BorrowerState',\n",
       "       'Occupation', 'EmploymentStatus', 'FirstRecordedCreditLine',\n",
       "       'LoanOriginationQuarter'],\n",
       "      dtype='object')"
      ]
     },
     "execution_count": 30,
     "metadata": {},
     "output_type": "execute_result"
    }
   ],
   "source": [
    "obj = df.select_dtypes('object')\n",
    "obj.columns"
   ]
  },
  {
   "cell_type": "code",
   "execution_count": 31,
   "id": "c7d50bcf",
   "metadata": {},
   "outputs": [],
   "source": [
    "le = LabelEncoder()\n",
    "les = {}\n",
    "for col in obj.columns:\n",
    "    les[col] = LabelEncoder()\n",
    "    df[col]  = les[col].fit_transform(df[col])"
   ]
  },
  {
   "cell_type": "code",
   "execution_count": 34,
   "id": "36e76def",
   "metadata": {},
   "outputs": [
    {
     "data": {
      "text/plain": [
       "ListingCreationDate           0.221731\n",
       "ProsperRating (numeric)       0.211124\n",
       "ProsperRating (Alpha)        -0.204031\n",
       "EstimatedLoss                -0.223713\n",
       "EstimatedEffectiveYield      -0.227060\n",
       "LoanMonthsSinceOrigination   -0.231718\n",
       "BorrowerAPR                  -0.246874\n",
       "LenderYield                  -0.253186\n",
       "BorrowerRate                 -0.253202\n",
       "EstimatedReturn              -0.270296\n",
       "dtype: float64"
      ]
     },
     "execution_count": 34,
     "metadata": {},
     "output_type": "execute_result"
    }
   ],
   "source": [
    "corrlation = df.corrwith(df['Status']).sort_values(ascending = False)\n",
    "sel_col = corrlation[(corrlation > 0.2) | (corrlation < -0.2)]\n",
    "sel_col.drop('Status',inplace=True)\n",
    "sel_col"
   ]
  },
  {
   "cell_type": "markdown",
   "id": "783222b9",
   "metadata": {},
   "source": [
    "# Preprocessing"
   ]
  },
  {
   "cell_type": "code",
   "execution_count": 36,
   "id": "d7de4e43",
   "metadata": {},
   "outputs": [],
   "source": [
    "X = df[sel_col.index]\n",
    "y = df['Status']"
   ]
  },
  {
   "cell_type": "code",
   "execution_count": 37,
   "id": "bed1eed5",
   "metadata": {},
   "outputs": [],
   "source": [
    "X_train, X_test, y_train, y_test = train_test_split(X, y, test_size=0.33, random_state=42)"
   ]
  },
  {
   "cell_type": "code",
   "execution_count": 38,
   "id": "d360c3e0",
   "metadata": {},
   "outputs": [],
   "source": [
    "sc = StandardScaler()\n",
    "X_train = sc.fit_transform(X_train)\n",
    "X_test = sc.transform(X_test)"
   ]
  },
  {
   "cell_type": "markdown",
   "id": "8770f76e",
   "metadata": {},
   "source": [
    "# Modeling\n",
    "\n",
    "### Decision Tree Classification model"
   ]
  },
  {
   "cell_type": "code",
   "execution_count": 39,
   "id": "008bf1c2",
   "metadata": {},
   "outputs": [],
   "source": [
    "criterion = ['gini', 'entropy']\n",
    "max_depth = [2,4,6,8,10,12]"
   ]
  },
  {
   "cell_type": "code",
   "execution_count": 40,
   "id": "aded0c9c",
   "metadata": {},
   "outputs": [
    {
     "data": {
      "text/plain": [
       "{'criterion': ['gini', 'entropy'], 'max_depth': [2, 4, 6, 8, 10, 12]}"
      ]
     },
     "execution_count": 40,
     "metadata": {},
     "output_type": "execute_result"
    }
   ],
   "source": [
    "parameters = dict(criterion=criterion,max_depth=max_depth)\n",
    "parameters"
   ]
  },
  {
   "cell_type": "code",
   "execution_count": 41,
   "id": "464459b4",
   "metadata": {},
   "outputs": [
    {
     "data": {
      "text/html": [
       "<style>#sk-container-id-1 {color: black;background-color: white;}#sk-container-id-1 pre{padding: 0;}#sk-container-id-1 div.sk-toggleable {background-color: white;}#sk-container-id-1 label.sk-toggleable__label {cursor: pointer;display: block;width: 100%;margin-bottom: 0;padding: 0.3em;box-sizing: border-box;text-align: center;}#sk-container-id-1 label.sk-toggleable__label-arrow:before {content: \"▸\";float: left;margin-right: 0.25em;color: #696969;}#sk-container-id-1 label.sk-toggleable__label-arrow:hover:before {color: black;}#sk-container-id-1 div.sk-estimator:hover label.sk-toggleable__label-arrow:before {color: black;}#sk-container-id-1 div.sk-toggleable__content {max-height: 0;max-width: 0;overflow: hidden;text-align: left;background-color: #f0f8ff;}#sk-container-id-1 div.sk-toggleable__content pre {margin: 0.2em;color: black;border-radius: 0.25em;background-color: #f0f8ff;}#sk-container-id-1 input.sk-toggleable__control:checked~div.sk-toggleable__content {max-height: 200px;max-width: 100%;overflow: auto;}#sk-container-id-1 input.sk-toggleable__control:checked~label.sk-toggleable__label-arrow:before {content: \"▾\";}#sk-container-id-1 div.sk-estimator input.sk-toggleable__control:checked~label.sk-toggleable__label {background-color: #d4ebff;}#sk-container-id-1 div.sk-label input.sk-toggleable__control:checked~label.sk-toggleable__label {background-color: #d4ebff;}#sk-container-id-1 input.sk-hidden--visually {border: 0;clip: rect(1px 1px 1px 1px);clip: rect(1px, 1px, 1px, 1px);height: 1px;margin: -1px;overflow: hidden;padding: 0;position: absolute;width: 1px;}#sk-container-id-1 div.sk-estimator {font-family: monospace;background-color: #f0f8ff;border: 1px dotted black;border-radius: 0.25em;box-sizing: border-box;margin-bottom: 0.5em;}#sk-container-id-1 div.sk-estimator:hover {background-color: #d4ebff;}#sk-container-id-1 div.sk-parallel-item::after {content: \"\";width: 100%;border-bottom: 1px solid gray;flex-grow: 1;}#sk-container-id-1 div.sk-label:hover label.sk-toggleable__label {background-color: #d4ebff;}#sk-container-id-1 div.sk-serial::before {content: \"\";position: absolute;border-left: 1px solid gray;box-sizing: border-box;top: 0;bottom: 0;left: 50%;z-index: 0;}#sk-container-id-1 div.sk-serial {display: flex;flex-direction: column;align-items: center;background-color: white;padding-right: 0.2em;padding-left: 0.2em;position: relative;}#sk-container-id-1 div.sk-item {position: relative;z-index: 1;}#sk-container-id-1 div.sk-parallel {display: flex;align-items: stretch;justify-content: center;background-color: white;position: relative;}#sk-container-id-1 div.sk-item::before, #sk-container-id-1 div.sk-parallel-item::before {content: \"\";position: absolute;border-left: 1px solid gray;box-sizing: border-box;top: 0;bottom: 0;left: 50%;z-index: -1;}#sk-container-id-1 div.sk-parallel-item {display: flex;flex-direction: column;z-index: 1;position: relative;background-color: white;}#sk-container-id-1 div.sk-parallel-item:first-child::after {align-self: flex-end;width: 50%;}#sk-container-id-1 div.sk-parallel-item:last-child::after {align-self: flex-start;width: 50%;}#sk-container-id-1 div.sk-parallel-item:only-child::after {width: 0;}#sk-container-id-1 div.sk-dashed-wrapped {border: 1px dashed gray;margin: 0 0.4em 0.5em 0.4em;box-sizing: border-box;padding-bottom: 0.4em;background-color: white;}#sk-container-id-1 div.sk-label label {font-family: monospace;font-weight: bold;display: inline-block;line-height: 1.2em;}#sk-container-id-1 div.sk-label-container {text-align: center;}#sk-container-id-1 div.sk-container {/* jupyter's `normalize.less` sets `[hidden] { display: none; }` but bootstrap.min.css set `[hidden] { display: none !important; }` so we also need the `!important` here to be able to override the default hidden behavior on the sphinx rendered scikit-learn.org. See: https://github.com/scikit-learn/scikit-learn/issues/21755 */display: inline-block !important;position: relative;}#sk-container-id-1 div.sk-text-repr-fallback {display: none;}</style><div id=\"sk-container-id-1\" class=\"sk-top-container\"><div class=\"sk-text-repr-fallback\"><pre>GridSearchCV(estimator=DecisionTreeClassifier(),\n",
       "             param_grid={&#x27;criterion&#x27;: [&#x27;gini&#x27;, &#x27;entropy&#x27;],\n",
       "                         &#x27;max_depth&#x27;: [2, 4, 6, 8, 10, 12]})</pre><b>In a Jupyter environment, please rerun this cell to show the HTML representation or trust the notebook. <br />On GitHub, the HTML representation is unable to render, please try loading this page with nbviewer.org.</b></div><div class=\"sk-container\" hidden><div class=\"sk-item sk-dashed-wrapped\"><div class=\"sk-label-container\"><div class=\"sk-label sk-toggleable\"><input class=\"sk-toggleable__control sk-hidden--visually\" id=\"sk-estimator-id-1\" type=\"checkbox\" ><label for=\"sk-estimator-id-1\" class=\"sk-toggleable__label sk-toggleable__label-arrow\">GridSearchCV</label><div class=\"sk-toggleable__content\"><pre>GridSearchCV(estimator=DecisionTreeClassifier(),\n",
       "             param_grid={&#x27;criterion&#x27;: [&#x27;gini&#x27;, &#x27;entropy&#x27;],\n",
       "                         &#x27;max_depth&#x27;: [2, 4, 6, 8, 10, 12]})</pre></div></div></div><div class=\"sk-parallel\"><div class=\"sk-parallel-item\"><div class=\"sk-item\"><div class=\"sk-label-container\"><div class=\"sk-label sk-toggleable\"><input class=\"sk-toggleable__control sk-hidden--visually\" id=\"sk-estimator-id-2\" type=\"checkbox\" ><label for=\"sk-estimator-id-2\" class=\"sk-toggleable__label sk-toggleable__label-arrow\">estimator: DecisionTreeClassifier</label><div class=\"sk-toggleable__content\"><pre>DecisionTreeClassifier()</pre></div></div></div><div class=\"sk-serial\"><div class=\"sk-item\"><div class=\"sk-estimator sk-toggleable\"><input class=\"sk-toggleable__control sk-hidden--visually\" id=\"sk-estimator-id-3\" type=\"checkbox\" ><label for=\"sk-estimator-id-3\" class=\"sk-toggleable__label sk-toggleable__label-arrow\">DecisionTreeClassifier</label><div class=\"sk-toggleable__content\"><pre>DecisionTreeClassifier()</pre></div></div></div></div></div></div></div></div></div></div>"
      ],
      "text/plain": [
       "GridSearchCV(estimator=DecisionTreeClassifier(),\n",
       "             param_grid={'criterion': ['gini', 'entropy'],\n",
       "                         'max_depth': [2, 4, 6, 8, 10, 12]})"
      ]
     },
     "execution_count": 41,
     "metadata": {},
     "output_type": "execute_result"
    }
   ],
   "source": [
    "dt_cl = tree.DecisionTreeClassifier()\n",
    "clf_GS = GridSearchCV(dt_cl, parameters)\n",
    "clf_GS.fit(X_train,y_train)"
   ]
  },
  {
   "cell_type": "code",
   "execution_count": 42,
   "id": "37ec03fb",
   "metadata": {},
   "outputs": [
    {
     "name": "stdout",
     "output_type": "stream",
     "text": [
      "Best Criterion: gini\n",
      "Best max_depth: 2\n"
     ]
    }
   ],
   "source": [
    "print('Best Criterion:', clf_GS.best_estimator_.get_params()['criterion'])\n",
    "print('Best max_depth:', clf_GS.best_estimator_.get_params()['max_depth'])"
   ]
  },
  {
   "cell_type": "code",
   "execution_count": 43,
   "id": "39c15728",
   "metadata": {},
   "outputs": [],
   "source": [
    "dt_cl = tree.DecisionTreeClassifier(criterion=\"gini\",max_depth =12,min_samples_split=2,min_samples_leaf=1)"
   ]
  },
  {
   "cell_type": "code",
   "execution_count": 44,
   "id": "2997a357",
   "metadata": {},
   "outputs": [
    {
     "data": {
      "text/html": [
       "<style>#sk-container-id-2 {color: black;background-color: white;}#sk-container-id-2 pre{padding: 0;}#sk-container-id-2 div.sk-toggleable {background-color: white;}#sk-container-id-2 label.sk-toggleable__label {cursor: pointer;display: block;width: 100%;margin-bottom: 0;padding: 0.3em;box-sizing: border-box;text-align: center;}#sk-container-id-2 label.sk-toggleable__label-arrow:before {content: \"▸\";float: left;margin-right: 0.25em;color: #696969;}#sk-container-id-2 label.sk-toggleable__label-arrow:hover:before {color: black;}#sk-container-id-2 div.sk-estimator:hover label.sk-toggleable__label-arrow:before {color: black;}#sk-container-id-2 div.sk-toggleable__content {max-height: 0;max-width: 0;overflow: hidden;text-align: left;background-color: #f0f8ff;}#sk-container-id-2 div.sk-toggleable__content pre {margin: 0.2em;color: black;border-radius: 0.25em;background-color: #f0f8ff;}#sk-container-id-2 input.sk-toggleable__control:checked~div.sk-toggleable__content {max-height: 200px;max-width: 100%;overflow: auto;}#sk-container-id-2 input.sk-toggleable__control:checked~label.sk-toggleable__label-arrow:before {content: \"▾\";}#sk-container-id-2 div.sk-estimator input.sk-toggleable__control:checked~label.sk-toggleable__label {background-color: #d4ebff;}#sk-container-id-2 div.sk-label input.sk-toggleable__control:checked~label.sk-toggleable__label {background-color: #d4ebff;}#sk-container-id-2 input.sk-hidden--visually {border: 0;clip: rect(1px 1px 1px 1px);clip: rect(1px, 1px, 1px, 1px);height: 1px;margin: -1px;overflow: hidden;padding: 0;position: absolute;width: 1px;}#sk-container-id-2 div.sk-estimator {font-family: monospace;background-color: #f0f8ff;border: 1px dotted black;border-radius: 0.25em;box-sizing: border-box;margin-bottom: 0.5em;}#sk-container-id-2 div.sk-estimator:hover {background-color: #d4ebff;}#sk-container-id-2 div.sk-parallel-item::after {content: \"\";width: 100%;border-bottom: 1px solid gray;flex-grow: 1;}#sk-container-id-2 div.sk-label:hover label.sk-toggleable__label {background-color: #d4ebff;}#sk-container-id-2 div.sk-serial::before {content: \"\";position: absolute;border-left: 1px solid gray;box-sizing: border-box;top: 0;bottom: 0;left: 50%;z-index: 0;}#sk-container-id-2 div.sk-serial {display: flex;flex-direction: column;align-items: center;background-color: white;padding-right: 0.2em;padding-left: 0.2em;position: relative;}#sk-container-id-2 div.sk-item {position: relative;z-index: 1;}#sk-container-id-2 div.sk-parallel {display: flex;align-items: stretch;justify-content: center;background-color: white;position: relative;}#sk-container-id-2 div.sk-item::before, #sk-container-id-2 div.sk-parallel-item::before {content: \"\";position: absolute;border-left: 1px solid gray;box-sizing: border-box;top: 0;bottom: 0;left: 50%;z-index: -1;}#sk-container-id-2 div.sk-parallel-item {display: flex;flex-direction: column;z-index: 1;position: relative;background-color: white;}#sk-container-id-2 div.sk-parallel-item:first-child::after {align-self: flex-end;width: 50%;}#sk-container-id-2 div.sk-parallel-item:last-child::after {align-self: flex-start;width: 50%;}#sk-container-id-2 div.sk-parallel-item:only-child::after {width: 0;}#sk-container-id-2 div.sk-dashed-wrapped {border: 1px dashed gray;margin: 0 0.4em 0.5em 0.4em;box-sizing: border-box;padding-bottom: 0.4em;background-color: white;}#sk-container-id-2 div.sk-label label {font-family: monospace;font-weight: bold;display: inline-block;line-height: 1.2em;}#sk-container-id-2 div.sk-label-container {text-align: center;}#sk-container-id-2 div.sk-container {/* jupyter's `normalize.less` sets `[hidden] { display: none; }` but bootstrap.min.css set `[hidden] { display: none !important; }` so we also need the `!important` here to be able to override the default hidden behavior on the sphinx rendered scikit-learn.org. See: https://github.com/scikit-learn/scikit-learn/issues/21755 */display: inline-block !important;position: relative;}#sk-container-id-2 div.sk-text-repr-fallback {display: none;}</style><div id=\"sk-container-id-2\" class=\"sk-top-container\"><div class=\"sk-text-repr-fallback\"><pre>DecisionTreeClassifier(max_depth=12)</pre><b>In a Jupyter environment, please rerun this cell to show the HTML representation or trust the notebook. <br />On GitHub, the HTML representation is unable to render, please try loading this page with nbviewer.org.</b></div><div class=\"sk-container\" hidden><div class=\"sk-item\"><div class=\"sk-estimator sk-toggleable\"><input class=\"sk-toggleable__control sk-hidden--visually\" id=\"sk-estimator-id-4\" type=\"checkbox\" checked><label for=\"sk-estimator-id-4\" class=\"sk-toggleable__label sk-toggleable__label-arrow\">DecisionTreeClassifier</label><div class=\"sk-toggleable__content\"><pre>DecisionTreeClassifier(max_depth=12)</pre></div></div></div></div></div>"
      ],
      "text/plain": [
       "DecisionTreeClassifier(max_depth=12)"
      ]
     },
     "execution_count": 44,
     "metadata": {},
     "output_type": "execute_result"
    }
   ],
   "source": [
    "dt_cl.fit(X_train,y_train)"
   ]
  },
  {
   "cell_type": "markdown",
   "id": "2b12d08e",
   "metadata": {},
   "source": [
    "# Model Evaluation"
   ]
  },
  {
   "cell_type": "code",
   "execution_count": 45,
   "id": "40dc43e7",
   "metadata": {},
   "outputs": [
    {
     "name": "stdout",
     "output_type": "stream",
     "text": [
      "Train Score : 89.853%\n",
      "Test Score : 89.459%\n"
     ]
    }
   ],
   "source": [
    "print(\"Train Score : \"+str(round((dt_cl.score(X_train,y_train))*100,3) )+\"%\")\n",
    "print(\"Test Score : \"+str(round((dt_cl.score(X_test,y_test))*100,3)) +\"%\")"
   ]
  },
  {
   "cell_type": "code",
   "execution_count": 46,
   "id": "a009394f",
   "metadata": {},
   "outputs": [
    {
     "data": {
      "text/plain": [
       "(<Figure size 864x360 with 1 Axes>,\n",
       " <AxesSubplot:xlabel='predicted label', ylabel='true label'>)"
      ]
     },
     "execution_count": 46,
     "metadata": {},
     "output_type": "execute_result"
    },
    {
     "data": {
      "image/png": "[encoded data removed]",
      "text/plain": [
       "<Figure size 864x360 with 1 Axes>"
      ]
     },
     "metadata": {
      "needs_background": "light"
     },
     "output_type": "display_data"
    }
   ],
   "source": [
    "plot_confusion_matrix(confusion_matrix(y_test,dt_cl.predict(X_test)),figsize=(12,5))"
   ]
  },
  {
   "cell_type": "code",
   "execution_count": 47,
   "id": "4a745c05",
   "metadata": {},
   "outputs": [
    {
     "name": "stdout",
     "output_type": "stream",
     "text": [
      "              precision    recall  f1-score   support\n",
      "\n",
      "           0       0.18      0.01      0.02      2807\n",
      "           1       0.90      0.99      0.94     24751\n",
      "\n",
      "    accuracy                           0.89     27558\n",
      "   macro avg       0.54      0.50      0.48     27558\n",
      "weighted avg       0.83      0.89      0.85     27558\n",
      "\n"
     ]
    }
   ],
   "source": [
    "print(classification_report(y_test,dt_cl.predict(X_test)))"
   ]
  }
 ],
 "metadata": {
  "kernelspec": {
   "display_name": "Python 3 (ipykernel)",
   "language": "python",
   "name": "python3"
  },
  "language_info": {
   "codemirror_mode": {
    "name": "ipython",
    "version": 3
   },
   "file_extension": ".py",
   "mimetype": "text/x-python",
   "name": "python",
   "nbconvert_exporter": "python",
   "pygments_lexer": "ipython3",
   "version": "3.10.0"
  }
 },
 "nbformat": 4,
 "nbformat_minor": 5
}
